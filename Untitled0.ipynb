{
  "nbformat": 4,
  "nbformat_minor": 0,
  "metadata": {
    "colab": {
      "provenance": [],
      "authorship_tag": "ABX9TyM3mjmnqJjRQWIASgWIFK9U",
      "include_colab_link": true
    },
    "kernelspec": {
      "name": "python3",
      "display_name": "Python 3"
    },
    "language_info": {
      "name": "python"
    }
  },
  "cells": [
    {
      "cell_type": "markdown",
      "metadata": {
        "id": "view-in-github",
        "colab_type": "text"
      },
      "source": [
        "<a href=\"https://colab.research.google.com/github/Datigrato/Funcoes/blob/main/Untitled0.ipynb\" target=\"_parent\"><img src=\"https://colab.research.google.com/assets/colab-badge.svg\" alt=\"Open In Colab\"/></a>"
      ]
    },
    {
      "cell_type": "code",
      "execution_count": null,
      "metadata": {
        "id": "mj0H4i-rpCoy"
      },
      "outputs": [],
      "source": []
    },
    {
      "cell_type": "markdown",
      "source": [
        "# Aula listas em python"
      ],
      "metadata": {
        "id": "epqoIl1Zr_-a"
      }
    },
    {
      "cell_type": "code",
      "source": [
        "#Código simples\n",
        "nome = 'Aristoteles'\n",
        "print (nome)"
      ],
      "metadata": {
        "colab": {
          "base_uri": "https://localhost:8080/"
        },
        "id": "PfbZOIUHsMAZ",
        "outputId": "4c5d7bd7-2167-4fc4-df7c-ec30c4a536f5"
      },
      "execution_count": 1,
      "outputs": [
        {
          "output_type": "stream",
          "name": "stdout",
          "text": [
            "Aristoteles\n"
          ]
        }
      ]
    },
    {
      "cell_type": "code",
      "source": [
        "nota1 = 8\n",
        "nota2 = 5\n",
        "media = (nota1+nota2)/2\n",
        "print(media)"
      ],
      "metadata": {
        "colab": {
          "base_uri": "https://localhost:8080/"
        },
        "id": "ltQsTIdhslcS",
        "outputId": "cb224360-1a80-44a4-9246-a655d0e8c7e8"
      },
      "execution_count": 3,
      "outputs": [
        {
          "output_type": "stream",
          "name": "stdout",
          "text": [
            "6.5\n"
          ]
        }
      ]
    },
    {
      "cell_type": "markdown",
      "source": [],
      "metadata": {
        "id": "bQoAPiPvtgjt"
      }
    },
    {
      "cell_type": "code",
      "source": [
        "nota1 = float(input('Digite a nota 1 '))\n",
        "nota2 = float(input('Digite a nota 2 '))\n",
        "media = (nota1+nota2)/2\n",
        "print(media)"
      ],
      "metadata": {
        "colab": {
          "base_uri": "https://localhost:8080/"
        },
        "id": "OLbjIXpYtJDh",
        "outputId": "790244a4-b74b-44bf-b631-1f66fd298d72"
      },
      "execution_count": 5,
      "outputs": [
        {
          "output_type": "stream",
          "name": "stdout",
          "text": [
            "Digite a nota 1 9\n",
            "Digite a nota 2 6\n",
            "7.5\n"
          ]
        }
      ]
    },
    {
      "cell_type": "code",
      "source": [],
      "metadata": {
        "id": "rCLFQvKNtjmn"
      },
      "execution_count": null,
      "outputs": []
    },
    {
      "cell_type": "markdown",
      "source": [
        "LISTAS"
      ],
      "metadata": {
        "id": "EO1B4ATDtnKQ"
      }
    },
    {
      "cell_type": "code",
      "source": [],
      "metadata": {
        "id": "p0NJMjsZuOUm"
      },
      "execution_count": null,
      "outputs": []
    },
    {
      "cell_type": "code",
      "source": [
        "frutas = ['maçã', 'uva', 'laranja']\n",
        "\n",
        "numeros = [3, 5, 6, 2, 7]\n",
        "\n",
        "mista = [1, 'ola', True, 3, 77.8]\n",
        "\n",
        "print(frutas)\n",
        "print(numeros)\n",
        "print(mista)"
      ],
      "metadata": {
        "colab": {
          "base_uri": "https://localhost:8080/"
        },
        "id": "_78GXScWtsGA",
        "outputId": "b7a83889-c85a-45a7-e462-ca1bd255c375"
      },
      "execution_count": 12,
      "outputs": [
        {
          "output_type": "stream",
          "name": "stdout",
          "text": [
            "['maçã', 'uva', 'laranja']\n",
            "[3, 5, 6, 2, 7]\n",
            "[1, 'ola', True, 3, 77.8]\n"
          ]
        }
      ]
    },
    {
      "cell_type": "code",
      "source": [
        "#Acessar elementos\n",
        "\n",
        "lista = [5, 8, 9, 17, 13, 1, 3]\n",
        "\n",
        "print(lista[0])\n",
        "\n",
        "print(lista[3])\n",
        "\n",
        "print(lista[-2])\n",
        "\n",
        "print(lista[-1])"
      ],
      "metadata": {
        "colab": {
          "base_uri": "https://localhost:8080/"
        },
        "id": "RkQnAWn6udX4",
        "outputId": "93e68dd3-bb1e-49c5-f01c-4e3e6f4ec8d5"
      },
      "execution_count": 14,
      "outputs": [
        {
          "output_type": "stream",
          "name": "stdout",
          "text": [
            "5\n",
            "17\n",
            "1\n",
            "3\n"
          ]
        }
      ]
    },
    {
      "cell_type": "code",
      "source": [
        "lista = [5, 8, 9, 17, 13, 1, 3]\n",
        "\n",
        "lista[2] = 250\n",
        "\n",
        "print (lista)"
      ],
      "metadata": {
        "colab": {
          "base_uri": "https://localhost:8080/"
        },
        "id": "W0udFwE_wH8U",
        "outputId": "c822b2a0-1ef7-42fd-a28e-a61e8f05c164"
      },
      "execution_count": 15,
      "outputs": [
        {
          "output_type": "stream",
          "name": "stdout",
          "text": [
            "[5, 8, 250, 17, 13, 1, 3]\n"
          ]
        }
      ]
    },
    {
      "cell_type": "code",
      "source": [
        "#Adicionar elementos\n",
        "lista = [1, 2]\n",
        "\n",
        "# append() adiciona elementos no final da lista\n",
        "lista.append(3)\n",
        "\n",
        "print(lista)\n",
        "\n",
        "#insert() inserir em posição específica (posição, valor)\n",
        "\n",
        "lista.insert(1, 9)\n",
        "\n",
        "print(lista)"
      ],
      "metadata": {
        "colab": {
          "base_uri": "https://localhost:8080/"
        },
        "id": "4yEjhrUvw6np",
        "outputId": "b4cb4256-ce9e-42f9-c39c-72e4b6af4579"
      },
      "execution_count": 17,
      "outputs": [
        {
          "output_type": "stream",
          "name": "stdout",
          "text": [
            "[1, 2, 3]\n",
            "[1, 9, 2, 3]\n"
          ]
        }
      ]
    },
    {
      "cell_type": "code",
      "source": [
        "# Remover elementos\n",
        "nomes = ['André', 'Ana', 'Josefa', 'Bento', 'Leandro']\n",
        "\n",
        "#pelo valor\n",
        "nomes.remove('Josefa')\n",
        "\n",
        "print(nomes)\n",
        "\n",
        "#pelo indice\n",
        "\n",
        "nomes.pop(0)\n",
        "\n",
        "print(nomes)\n",
        "\n",
        "#pelo último valor\n",
        "nomes.pop()\n",
        "\n",
        "print(nomes)"
      ],
      "metadata": {
        "colab": {
          "base_uri": "https://localhost:8080/"
        },
        "id": "gmmpdVGdyLd5",
        "outputId": "fd115392-0053-4e4d-9057-b02bf754f148"
      },
      "execution_count": 18,
      "outputs": [
        {
          "output_type": "stream",
          "name": "stdout",
          "text": [
            "['André', 'Ana', 'Bento', 'Leandro']\n",
            "['Ana', 'Bento', 'Leandro']\n",
            "['Ana', 'Bento']\n"
          ]
        }
      ]
    },
    {
      "cell_type": "code",
      "source": [
        "#Fatiamento\n",
        "\n",
        "lista = [0, 1, 2, 3, 4, 5, 6, 7, 8, 9]\n",
        "\n",
        "# Sintaxe: lista[inicio: fim: passo]\n",
        "\n",
        "print(lista[:5])\n",
        "\n",
        "print(lista[6:])\n",
        "\n",
        "print(lista[3:9])\n",
        "\n",
        "print(lista[::2])\n",
        "\n",
        "print(lista[::3])\n",
        "\n",
        "print(lista[::-1])"
      ],
      "metadata": {
        "colab": {
          "base_uri": "https://localhost:8080/"
        },
        "id": "jKH9Subcz2hI",
        "outputId": "af3eaaf1-4c44-492c-874d-73c7e112ce4a"
      },
      "execution_count": 24,
      "outputs": [
        {
          "output_type": "stream",
          "name": "stdout",
          "text": [
            "[0, 1, 2, 3, 4]\n",
            "[6, 7, 8, 9]\n",
            "[3, 4, 5, 6, 7, 8]\n",
            "[0, 2, 4, 6, 8]\n",
            "[0, 3, 6, 9]\n",
            "[9, 8, 7, 6, 5, 4, 3, 2, 1, 0]\n"
          ]
        }
      ]
    },
    {
      "cell_type": "code",
      "source": [
        "#Funções úteis\n",
        "\n",
        "lista = [4, 7, 6, 11, 2, 0]\n",
        "\n",
        "#tamanho da lista\n",
        "print(len(lista))\n",
        "\n",
        "#Maior e menor valor\n",
        "print(max(lista))\n",
        "print(min(lista))\n",
        "\n",
        "#Soma dos elementos\n",
        "print(sum(lista))\n",
        "\n",
        "#ordenação\n",
        "print(sorted(lista))\n",
        "print(lista)\n",
        "\n",
        "#alterar a ordenção da lista original\n",
        "lista.sort()\n",
        "print(lista)\n",
        "\n"
      ],
      "metadata": {
        "colab": {
          "base_uri": "https://localhost:8080/"
        },
        "id": "jJgQTf-K2D0p",
        "outputId": "e1c028e4-037c-425b-bdda-418d6dc191c0"
      },
      "execution_count": 30,
      "outputs": [
        {
          "output_type": "stream",
          "name": "stdout",
          "text": [
            "6\n",
            "11\n",
            "0\n",
            "30\n",
            "[0, 2, 4, 6, 7, 11]\n",
            "[4, 7, 6, 11, 2, 0]\n",
            "[0, 2, 4, 6, 7, 11]\n"
          ]
        }
      ]
    },
    {
      "cell_type": "code",
      "source": [
        "#Laços em listas\n",
        "compras = ['ovo', 'manteiga', 'café', 'pao', 'laranja']\n",
        "\n",
        "for item in compras:\n",
        "  print(item)\n",
        "\n",
        "for indice, item in enumerate(compras):\n",
        "  print(f'Produto {indice}: {item}')"
      ],
      "metadata": {
        "colab": {
          "base_uri": "https://localhost:8080/"
        },
        "id": "W1Hq5mA35tiS",
        "outputId": "604be70a-919e-4706-926b-c3a3e1a72533"
      },
      "execution_count": 37,
      "outputs": [
        {
          "output_type": "stream",
          "name": "stdout",
          "text": [
            "ovo\n",
            "manteiga\n",
            "café\n",
            "pao\n",
            "laranja\n",
            "Produto 0: ovo\n",
            "Produto 1: manteiga\n",
            "Produto 2: café\n",
            "Produto 3: pao\n",
            "Produto 4: laranja\n"
          ]
        }
      ]
    },
    {
      "cell_type": "code",
      "source": [
        "#Filtrar elementos com for\n",
        "\n",
        "#compras = ['ovo', 'manteiga', 'café', 'pao', 'laranja']\n",
        "\n",
        "for item in compras:\n",
        "  if 'a' in item:\n",
        "    print(f'{item} contem a letra a')"
      ],
      "metadata": {
        "colab": {
          "base_uri": "https://localhost:8080/"
        },
        "id": "BwoxiHM27_eh",
        "outputId": "053073b6-e961-412f-f815-998667737637"
      },
      "execution_count": 41,
      "outputs": [
        {
          "output_type": "stream",
          "name": "stdout",
          "text": [
            "manteiga contem a letra a\n",
            "café contem a letra a\n",
            "pao contem a letra a\n",
            "laranja contem a letra a\n"
          ]
        }
      ]
    },
    {
      "cell_type": "markdown",
      "source": [
        "##STRINGs\n",
        "- São listas de caracteres\n",
        "- As funções usadas em listas, podem ser usadas em caracteres"
      ],
      "metadata": {
        "id": "jYQimCQm9j7e"
      }
    },
    {
      "cell_type": "code",
      "source": [
        "#concatenação\n",
        "nome = input('Digite seu nome: ')\n",
        "\n",
        "sobrenome = 'Silva'\n",
        "\n",
        "print(nome, sobrenome)\n",
        "print(nome+sobrenome)\n",
        "print (f'{nome}  {sobrenome}')\n"
      ],
      "metadata": {
        "colab": {
          "base_uri": "https://localhost:8080/"
        },
        "id": "LbTMNZ4P9fmx",
        "outputId": "a71d69e1-a108-4933-8aba-5c9182bdf2d8"
      },
      "execution_count": 44,
      "outputs": [
        {
          "output_type": "stream",
          "name": "stdout",
          "text": [
            "Digite seu nomeAri\n",
            "Ari Silva\n",
            "AriSilva\n",
            "Ari  Silva\n"
          ]
        }
      ]
    },
    {
      "cell_type": "code",
      "source": [
        "#Acessar caracteres\n",
        "\n",
        "texto = 'Python'\n",
        "\n",
        "print(texto[0])\n",
        "\n",
        "for letra in texto:\n",
        "  print(letra)"
      ],
      "metadata": {
        "colab": {
          "base_uri": "https://localhost:8080/"
        },
        "id": "1rKyHOPJ-_Vk",
        "outputId": "f4c67090-5f73-4597-bb9f-d967eb0c541a"
      },
      "execution_count": 45,
      "outputs": [
        {
          "output_type": "stream",
          "name": "stdout",
          "text": [
            "P\n",
            "P\n",
            "y\n",
            "t\n",
            "h\n",
            "o\n",
            "n\n"
          ]
        }
      ]
    },
    {
      "cell_type": "code",
      "source": [
        "#Fatiamento de string\n",
        "texto = 'Eu estou aprendendo a programar com Python'\n",
        "\n",
        "print(texto[2:5])\n",
        "print(texto[4:])\n",
        "print(texto[: :3])"
      ],
      "metadata": {
        "colab": {
          "base_uri": "https://localhost:8080/"
        },
        "id": "-_GzqP-U_l2q",
        "outputId": "25545e88-cf26-4cde-d8a0-64803a15d118"
      },
      "execution_count": 47,
      "outputs": [
        {
          "output_type": "stream",
          "name": "stdout",
          "text": [
            "ogr\n",
            "ramação\n",
            "Pgmã\n"
          ]
        }
      ]
    },
    {
      "cell_type": "code",
      "source": [
        "#Metodos comuns para string\n",
        "print(texto.strip()) #remover espaços\n",
        "\n",
        "#Converter maiusculas em minusculas\n",
        "print(texto.upper())\n"
      ],
      "metadata": {
        "id": "VkkJy2iEALrZ"
      },
      "execution_count": null,
      "outputs": []
    }
  ]
}